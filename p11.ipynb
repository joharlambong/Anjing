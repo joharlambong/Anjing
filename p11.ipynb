{
 "metadata": {
  "language_info": {
   "codemirror_mode": {
    "name": "ipython",
    "version": 3
   },
   "file_extension": ".py",
   "mimetype": "text/x-python",
   "name": "python",
   "nbconvert_exporter": "python",
   "pygments_lexer": "ipython3",
   "version": "3.8.3-final"
  },
  "orig_nbformat": 2,
  "kernelspec": {
   "name": "python3",
   "display_name": "Python 3"
  }
 },
 "nbformat": 4,
 "nbformat_minor": 2,
 "cells": [
  {
   "cell_type": "code",
   "execution_count": 2,
   "metadata": {},
   "outputs": [
    {
     "output_type": "stream",
     "name": "stdout",
     "text": [
      "[[ 2  3  4]\n [ 5  6  7]\n [ 8  9 10]]\n"
     ]
    }
   ],
   "source": [
    "import numpy as np\n",
    "\n",
    "x = np.array([2, 3, 4, 5, 6, 7, 8, 9, 10])\n",
    "print(x.reshape(3,3))"
   ]
  },
  {
   "cell_type": "code",
   "execution_count": 10,
   "metadata": {},
   "outputs": [
    {
     "output_type": "stream",
     "name": "stdout",
     "text": [
      "[[1 1 1 1]\n [1 0 0 1]\n [1 0 0 1]\n [1 1 1 1]]\n"
     ]
    }
   ],
   "source": [
    "x = np.array([],dtype='i')\n",
    "for i in range(16):\n",
    "    x = np.append(x,[1],axis=0)\n",
    "x = x.reshape(4,4)\n",
    "\n",
    "for i in range(x.shape[0]):\n",
    "    for j in range(x.shape[1]):\n",
    "        if (i>0 and i<x.shape[0]-1) and (j>0 and j<x.shape[1]-1):\n",
    "            x[i][j] = 0\n",
    "\n",
    "print(x)"
   ]
  },
  {
   "cell_type": "code",
   "execution_count": 46,
   "metadata": {},
   "outputs": [
    {
     "output_type": "stream",
     "name": "stdout",
     "text": [
      "[('Heni', 5, 42.1) ('Adi', 5, 48.5) ('Budi', 6, 52.5)]\n"
     ]
    }
   ],
   "source": [
    "st = np.array([('Adi', 5, 48.5 ), ('Budi', 6, 52.5 ), ('Heni', 5, 42.1 )],\n",
    "                dtype=[('nama','U10'),('kelas','i'),('tinggi','f')])\n",
    "st.sort(order='tinggi')\n",
    "print(st)"
   ]
  },
  {
   "cell_type": "code",
   "execution_count": 51,
   "metadata": {},
   "outputs": [
    {
     "output_type": "error",
     "ename": "TypeError",
     "evalue": "'numpy.dtype' object does not support item assignment",
     "traceback": [
      "\u001b[0;31m---------------------------------------------------------------------------\u001b[0m",
      "\u001b[0;31mTypeError\u001b[0m                                 Traceback (most recent call last)",
      "\u001b[0;32m<ipython-input-51-b6a5adbc1742>\u001b[0m in \u001b[0;36m<module>\u001b[0;34m\u001b[0m\n\u001b[1;32m      2\u001b[0m \u001b[0mnilai\u001b[0m \u001b[0;34m=\u001b[0m \u001b[0mnp\u001b[0m\u001b[0;34m.\u001b[0m\u001b[0marray\u001b[0m\u001b[0;34m(\u001b[0m\u001b[0;34m[\u001b[0m\u001b[0;36m70.6\u001b[0m\u001b[0;34m,\u001b[0m\u001b[0;36m60.1\u001b[0m\u001b[0;34m,\u001b[0m\u001b[0;36m40.3\u001b[0m\u001b[0;34m]\u001b[0m\u001b[0;34m)\u001b[0m\u001b[0;34m\u001b[0m\u001b[0;34m\u001b[0m\u001b[0m\n\u001b[1;32m      3\u001b[0m \u001b[0;32mfor\u001b[0m \u001b[0mi\u001b[0m \u001b[0;32min\u001b[0m \u001b[0mst\u001b[0m\u001b[0;34m:\u001b[0m\u001b[0;34m\u001b[0m\u001b[0;34m\u001b[0m\u001b[0m\n\u001b[0;32m----> 4\u001b[0;31m     \u001b[0mmonyet\u001b[0m\u001b[0;34m[\u001b[0m\u001b[0;34m'nama'\u001b[0m\u001b[0;34m]\u001b[0m \u001b[0;34m=\u001b[0m \u001b[0mst\u001b[0m\u001b[0;34m[\u001b[0m\u001b[0;34m'nama'\u001b[0m\u001b[0;34m]\u001b[0m\u001b[0;34m\u001b[0m\u001b[0;34m\u001b[0m\u001b[0m\n\u001b[0m\u001b[1;32m      5\u001b[0m     \u001b[0mmonyet\u001b[0m\u001b[0;34m[\u001b[0m\u001b[0;34m'kelas'\u001b[0m\u001b[0;34m]\u001b[0m \u001b[0;34m=\u001b[0m \u001b[0mst\u001b[0m\u001b[0;34m[\u001b[0m\u001b[0;34m'kelas'\u001b[0m\u001b[0;34m]\u001b[0m\u001b[0;34m\u001b[0m\u001b[0;34m\u001b[0m\u001b[0m\n\u001b[1;32m      6\u001b[0m     \u001b[0mmonyet\u001b[0m\u001b[0;34m[\u001b[0m\u001b[0;34m'tinggi'\u001b[0m\u001b[0;34m]\u001b[0m \u001b[0;34m=\u001b[0m \u001b[0mst\u001b[0m\u001b[0;34m[\u001b[0m\u001b[0;34m'tinggi'\u001b[0m\u001b[0;34m]\u001b[0m\u001b[0;34m\u001b[0m\u001b[0;34m\u001b[0m\u001b[0m\n",
      "\u001b[0;31mTypeError\u001b[0m: 'numpy.dtype' object does not support item assignment"
     ]
    }
   ],
   "source": [
    "monyet = np.dtype([('nama','U10'),('kelas','i'),('tinggi','f'),('nilai','i')])\n",
    "nilai = np.array([70.6,60.1,40.3])\n",
    "for i in st:\n",
    "    monyet['nama'] = st['nama']\n",
    "    monyet['kelas'] = st['kelas']\n",
    "    monyet['tinggi'] = st['tinggi']\n",
    "monyet.nilai = nilai\n",
    "print(monyet)"
   ]
  },
  {
   "cell_type": "code",
   "execution_count": 15,
   "metadata": {},
   "outputs": [
    {
     "output_type": "stream",
     "name": "stdout",
     "text": [
      "[1 0 8 2 4 7 9 5 6 3]\n"
     ]
    }
   ],
   "source": [
    "from numpy import random\n",
    "\n",
    "arr = np.array([],dtype='i')\n",
    "while arr.size<10:\n",
    "  x = random.randint(10)\n",
    "  y = np.where(arr==x)\n",
    "  if y[0].size==0:\n",
    "    arr = np.append(arr,x)\n",
    "print(arr)"
   ]
  },
  {
   "cell_type": "code",
   "execution_count": null,
   "metadata": {},
   "outputs": [],
   "source": []
  }
 ]
}