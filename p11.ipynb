{
 "metadata": {
  "language_info": {
   "codemirror_mode": {
    "name": "ipython",
    "version": 3
   },
   "file_extension": ".py",
   "mimetype": "text/x-python",
   "name": "python",
   "nbconvert_exporter": "python",
   "pygments_lexer": "ipython3",
   "version": "3.8.3-final"
  },
  "orig_nbformat": 2,
  "kernelspec": {
   "name": "python3",
   "display_name": "Python 3"
  }
 },
 "nbformat": 4,
 "nbformat_minor": 2,
 "cells": [
  {
   "cell_type": "code",
   "execution_count": 2,
   "metadata": {},
   "outputs": [
    {
     "output_type": "stream",
     "name": "stdout",
     "text": [
      "[[ 2  3  4]\n [ 5  6  7]\n [ 8  9 10]]\n"
     ]
    }
   ],
   "source": [
    "import numpy as np\n",
    "\n",
    "x = np.array([2, 3, 4, 5, 6, 7, 8, 9, 10])\n",
    "print(x.reshape(3,3))"
   ]
  },
  {
   "cell_type": "code",
   "execution_count": 3,
   "metadata": {},
   "outputs": [
    {
     "output_type": "stream",
     "name": "stdout",
     "text": [
      "[[1 1 1 1]\n [1 0 0 1]\n [1 0 0 1]\n [1 1 1 1]]\n"
     ]
    }
   ],
   "source": [
    "x = np.array([],dtype='i')\n",
    "for i in range(16):\n",
    "    x = np.append(x,[1],axis=0)\n",
    "x = x.reshape(4,4)\n",
    "\n",
    "for i in range(x.shape[0]):\n",
    "    for j in range(x.shape[1]):\n",
    "        if (i>0 and i<x.shape[0]-1) and (j>0 and j<x.shape[1]-1):\n",
    "            x[i][j] = 0\n",
    "\n",
    "print(x)"
   ]
  },
  {
   "cell_type": "code",
   "execution_count": 4,
   "metadata": {},
   "outputs": [
    {
     "output_type": "stream",
     "name": "stdout",
     "text": [
      "[('Heni', 5, 42.1) ('Adi', 5, 48.5) ('Budi', 6, 52.5)]\n"
     ]
    }
   ],
   "source": [
    "st = np.array([('Adi', 5, 48.5 ), ('Budi', 6, 52.5 ), ('Heni', 5, 42.1 )],\n",
    "                dtype=[('nama','U10'),('kelas','i'),('tinggi','f')])\n",
    "st.sort(order='tinggi')\n",
    "print(st)"
   ]
  },
  {
   "cell_type": "code",
   "execution_count": 5,
   "metadata": {},
   "outputs": [
    {
     "output_type": "stream",
     "name": "stdout",
     "text": [
      "[('Heni', 5, 42.1, 70.6) ('Adi', 5, 48.5, 60.1) ('Budi', 6, 52.5, 40.3)]\n"
     ]
    }
   ],
   "source": [
    "nilai = np.array([70.6,60.1,40.3],dtype='f')\n",
    "newSt = np.array([(st[0]['nama'],st[0]['kelas'],st[0]['tinggi'],nilai[0])],dtype=[('nama','U10'),('kelas','i'),('tinggi','f'),('nilai','f')])\n",
    "for i in range(st.size):\n",
    "    tambah = np.array([(st[i]['nama'],st[i]['kelas'],st[i]['tinggi'],nilai[i])],\n",
    "    dtype=[('nama','U10'),('kelas','i'),('tinggi','f'),('nilai','f')])\n",
    "    newSt = np.append(newSt,tambah)\n",
    "newSt = np.array(newSt[1:])\n",
    "print(newSt)"
   ]
  },
  {
   "cell_type": "code",
   "execution_count": 6,
   "metadata": {},
   "outputs": [
    {
     "output_type": "stream",
     "name": "stdout",
     "text": [
      "[('Heni', 5, 42.1, 70.6) ('Adi', 5, 48.5, 60.1)]\n"
     ]
    }
   ],
   "source": [
    "rataan = np.average(newSt[:]['nilai'])\n",
    "index = np.where(newSt[:]['nilai']>rataan)\n",
    "newSt = newSt[index[0][0]:index[0][1]+1]\n",
    "print(newSt)"
   ]
  },
  {
   "cell_type": "code",
   "execution_count": 7,
   "metadata": {},
   "outputs": [
    {
     "output_type": "stream",
     "name": "stdout",
     "text": [
      "[8 9 6 4 0 7 3 1 5 2]\n"
     ]
    }
   ],
   "source": [
    "from numpy import random\n",
    "\n",
    "arr = np.array([],dtype='i')\n",
    "while arr.size<10:\n",
    "  x = random.randint(10)\n",
    "  y = np.where(arr==x)\n",
    "  if y[0].size==0:\n",
    "    arr = np.append(arr,x)\n",
    "print(arr)"
   ]
  },
  {
   "cell_type": "code",
   "execution_count": 8,
   "metadata": {},
   "outputs": [
    {
     "output_type": "stream",
     "name": "stdout",
     "text": [
      "[8]\n"
     ]
    }
   ],
   "source": [
    "result = np.where(arr==5)\n",
    "print(result[0])"
   ]
  },
  {
   "cell_type": "code",
   "execution_count": 9,
   "metadata": {},
   "outputs": [
    {
     "output_type": "stream",
     "name": "stdout",
     "text": [
      "[[8 9 6 4 0]\n [7 3 1 5 2]]\n"
     ]
    }
   ],
   "source": [
    "arr = arr.reshape(2,5)\n",
    "print(arr)"
   ]
  },
  {
   "cell_type": "code",
   "execution_count": 26,
   "metadata": {},
   "outputs": [
    {
     "output_type": "stream",
     "name": "stdout",
     "text": [
      "[[6 4 0]\n [1 5 2]]\n"
     ]
    }
   ],
   "source": [
    "print(arr[:,2:5])"
   ]
  },
  {
   "cell_type": "code",
   "execution_count": 28,
   "metadata": {},
   "outputs": [
    {
     "output_type": "stream",
     "name": "stdout",
     "text": [
      "Baris ke-1 lebih besar\n"
     ]
    }
   ],
   "source": [
    "x = np.sum(arr[0])\n",
    "y = np.sum(arr[1])\n",
    "if x>y:\n",
    "    print(\"Baris ke-1 lebih besar\")\n",
    "elif x<y:\n",
    "    print(\"Baris ke-1 lebih kecil\")\n",
    "else:\n",
    "    print(\"Jumlah sama\")"
   ]
  },
  {
   "cell_type": "code",
   "execution_count": 33,
   "metadata": {},
   "outputs": [
    {
     "output_type": "stream",
     "name": "stdout",
     "text": [
      "[[8. 9. 6. 4. 0.]\n [7. 3. 1. 5. 2.]]\nfloat32\n"
     ]
    }
   ],
   "source": [
    "arr = arr.astype(\"f\")\n",
    "print(arr)\n",
    "print(arr.dtype)"
   ]
  },
  {
   "cell_type": "code",
   "execution_count": null,
   "metadata": {},
   "outputs": [],
   "source": []
  }
 ]
}